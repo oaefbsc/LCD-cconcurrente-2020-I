{
 "cells": [
  {
   "cell_type": "markdown",
   "metadata": {},
   "source": [
    "# Multiprocessing"
   ]
  },
  {
   "cell_type": "markdown",
   "metadata": {},
   "source": [
    "`multiprocessing` es un paquete de python que permite la generación de  procesos, ofrece concurrencia local como remota."
   ]
  },
  {
   "cell_type": "code",
   "execution_count": 44,
   "metadata": {},
   "outputs": [
    {
     "name": "stdout",
     "output_type": "stream",
     "text": [
      "calcula el cuadrado:\n",
      "cuadrado: 0\n",
      "cuadrado: 1\n",
      "cuadrado: 4\n",
      "cuadrado: 9\n",
      "cuadrado: 16\n",
      "cuadrado: 25\n",
      "cuadrado: 36\n",
      "cuadrado: 49\n",
      "cuadrado: 64\n",
      "cuadrado: 81\n",
      "calcula cubo el cubo:\n",
      "cubo: 0\n",
      "cubo: 1\n",
      "cubo: 4\n",
      "cubo: 9\n",
      "cubo: 16\n",
      "cubo: 25\n",
      "cubo: 36\n",
      "cubo: 49\n",
      "cubo: 64\n",
      "cubo: 81\n",
      "Tiempo de ejecución:  4.013366460800171\n",
      "Finaliza ejecución\n"
     ]
    }
   ],
   "source": [
    "import time\n",
    "\n",
    "def calc_cuad(numeros):\n",
    "    print(\"calcula el cuadrado:\")\n",
    "    for n in numeros:\n",
    "        time.sleep(0.2)\n",
    "        print('cuadrado:', n * n )\n",
    "        \n",
    "def calc_cubo(numeros):\n",
    "    print(\"calcula cubo el cubo:\")\n",
    "    for n in numeros:\n",
    "        time.sleep(0.2)\n",
    "        print('cubo:', n * n )\n",
    "        \n",
    "nums = range(10)\n",
    "\n",
    "t = time.time()\n",
    "calc_cuad(nums)\n",
    "calc_cubo(nums)\n",
    "\n",
    "print(\"Tiempo de ejecución: \", time.time()-t)\n",
    "print(\"Finaliza ejecución\")"
   ]
  },
  {
   "cell_type": "markdown",
   "metadata": {},
   "source": [
    "Una manera sencilla de generar un proceso es por medio de la creación del objeto `Process` y llamarlo por medio del método `start()`"
   ]
  },
  {
   "cell_type": "code",
   "execution_count": 42,
   "metadata": {},
   "outputs": [
    {
     "name": "stdout",
     "output_type": "stream",
     "text": [
      "Hola oscar\n"
     ]
    }
   ],
   "source": [
    "import multiprocessing as mp\n",
    "#from multiprocessing import Process\n",
    "\n",
    "def tarea(nombre):\n",
    "    print('Hola', nombre)\n",
    "\n",
    "if __name__ == '__main__':\n",
    "    p = mp.Process(target=tarea, args=('oscar',))\n",
    "    p.start()\n",
    "    p.join()"
   ]
  },
  {
   "cell_type": "code",
   "execution_count": 37,
   "metadata": {},
   "outputs": [
    {
     "name": "stdout",
     "output_type": "stream",
     "text": [
      "calcula cuadrado de números\n",
      "cuadrado: 0\n",
      "cuadrado: 1\n",
      "cuadrado: 4\n",
      "cuadrado: 9\n",
      "cuadrado: 16\n",
      "cuadrado: 25\n",
      "cuadrado: 36\n",
      "cuadrado: 49\n",
      "cuadrado: 64\n",
      "cuadrado: 81\n",
      "Tiempo de ejecución:  2.025118827819824\n",
      "Finaliza ejecución\n"
     ]
    }
   ],
   "source": [
    "import multiprocessing as mp\n",
    "\n",
    "\n",
    "def calc_cuad(numeros):\n",
    "    print(\"calcula cuadrado de números\")\n",
    "    for n in numeros:\n",
    "        time.sleep(0.2)\n",
    "        print('cuadrado:', n * n )\n",
    "\n",
    "nums = range(10)\n",
    "\n",
    "t = time.time()\n",
    "p1 = mp.Process(target=calc_cuad, args=(nums,))\n",
    "\n",
    "p1.start()\n",
    "p1.join()\n",
    "\n",
    "print(\"Tiempo de ejecución: \", time.time()-t)\n",
    "print(\"Finaliza ejecución\")"
   ]
  },
  {
   "cell_type": "code",
   "execution_count": 38,
   "metadata": {},
   "outputs": [],
   "source": [
    "import multiprocessing as mp"
   ]
  },
  {
   "cell_type": "code",
   "execution_count": 45,
   "metadata": {},
   "outputs": [
    {
     "name": "stdout",
     "output_type": "stream",
     "text": [
      "calcula cuadrado de números\n",
      "calcula cubo de números\n",
      "cuadrado: 0\n",
      "cubo: 0\n",
      "cuadrado: 1\n",
      "cubo: 1\n",
      "cuadrado: 4\n",
      "cubo: 4\n",
      "cuadrado: 9\n",
      "cubo: 9\n",
      "cuadrado: 16\n",
      "cubo: 16\n",
      "cuadrado: 25\n",
      "cubo: 25\n",
      "cuadrado: 36\n",
      "cubo: 36\n",
      "cuadrado: 49\n",
      "cubo: 49\n",
      "cuadrado: 64\n",
      "cubo: 64\n",
      "cuadrado: 81\n",
      "cubo: 81\n",
      "Tiempo de ejecución:  2.0247256755828857\n",
      "Finaliza ejecución\n"
     ]
    }
   ],
   "source": [
    "def calc_cuad(numeros):\n",
    "    print(\"calcula cuadrado de números\")\n",
    "    for n in numeros:\n",
    "        time.sleep(0.2)\n",
    "        print('cuadrado:', n * n )\n",
    "        \n",
    "def calc_cubo(numeros):\n",
    "    print(\"calcula cubo de números\")\n",
    "    for n in numeros:\n",
    "        time.sleep(0.2)\n",
    "        print('cubo:', n * n )\n",
    "\n",
    "\n",
    "nums = range(10)\n",
    "\n",
    "t = time.time()\n",
    "p1 = mp.Process(target=calc_cuad, args=(nums,))\n",
    "p2 = mp.Process(target=calc_cubo, args=(nums,))\n",
    "\n",
    "p1.start()\n",
    "p2.start()\n",
    "\n",
    "p1.join()\n",
    "p2.join()\n",
    "\n",
    "\n",
    "print(\"Tiempo de ejecución: \", time.time()-t)\n",
    "print(\"Finaliza ejecución\")"
   ]
  },
  {
   "cell_type": "markdown",
   "metadata": {},
   "source": [
    "## Tabla de procesos"
   ]
  },
  {
   "cell_type": "code",
   "execution_count": 53,
   "metadata": {},
   "outputs": [
    {
     "name": "stdout",
     "output_type": "stream",
     "text": [
      "calcula cuadrado de números\n",
      "calcula cubo de números\n",
      "cuadrado: 0\n",
      "cubo: 0\n",
      "cuadrado: 1\n",
      "cubo: 1\n",
      "cuadrado: 4\n",
      "cubo: 4\n",
      "cuadrado: 9\n",
      "cubo: 9\n",
      "cuadrado: 16\n",
      "cubo: 16\n",
      "cuadrado: 25\n",
      "cubo: 25\n",
      "cubo: 36\n",
      "cuadrado: 36\n",
      "cuadrado: 49\n",
      "cubo: 49\n",
      "cubo: 64\n",
      "cuadrado: 64\n",
      "cuadrado: 81\n",
      "cubo: 81\n",
      "Tiempo de ejecución:  50.07044291496277\n",
      "Finaliza ejecución\n"
     ]
    }
   ],
   "source": [
    "def calc_cuad(numeros):\n",
    "    print(\"calcula cuadrado de números\")\n",
    "    for n in numeros:\n",
    "        time.sleep(5)\n",
    "        print('cuadrado:', n * n )\n",
    "        \n",
    "def calc_cubo(numeros):\n",
    "    print(\"calcula cubo de números\")\n",
    "    for n in numeros:\n",
    "        time.sleep(5)\n",
    "        print('cubo:', n * n )\n",
    "\n",
    "\n",
    "nums = range(10)\n",
    "\n",
    "t = time.time()\n",
    "p1 = mp.Process(target=calc_cuad, args=(nums,))\n",
    "p2 = mp.Process(target=calc_cubo, args=(nums,))\n",
    "\n",
    "p1.start()\n",
    "p2.start()\n",
    "\n",
    "p1.join()\n",
    "p2.join()\n",
    "\n",
    "\n",
    "print(\"Tiempo de ejecución: \", time.time()-t)\n",
    "print(\"Finaliza ejecución\")"
   ]
  },
  {
   "cell_type": "markdown",
   "metadata": {},
   "source": [
    "## Identificadores pid, ppid"
   ]
  },
  {
   "cell_type": "code",
   "execution_count": 52,
   "metadata": {},
   "outputs": [
    {
     "name": "stdout",
     "output_type": "stream",
     "text": [
      "module name: __main__\n",
      "parent process: 32043\n",
      "process id: 26713\n"
     ]
    }
   ],
   "source": [
    "print('module name:', __name__)\n",
    "print('parent process:', os.getppid())\n",
    "print('process id:', os.getpid())"
   ]
  },
  {
   "cell_type": "code",
   "execution_count": 23,
   "metadata": {},
   "outputs": [
    {
     "name": "stdout",
     "output_type": "stream",
     "text": [
      "Primera linea\n",
      "module name: __main__\n",
      "parent process: 32043\n",
      "process id: 26713\n",
      "funcion f\n",
      "module name: __main__\n",
      "parent process: 26713\n",
      "process id: 28343\n",
      "hello oscar\n",
      "---------\n"
     ]
    }
   ],
   "source": [
    "from multiprocessing import Process\n",
    "import os\n",
    "\n",
    "def info(titulo):\n",
    "    print(titulo)\n",
    "    print('module name:', __name__)\n",
    "    print('parent process:', os.getppid())\n",
    "    print('process id:', os.getpid())\n",
    "\n",
    "def f(nombre):\n",
    "    info('funcion f')\n",
    "    print('hello', nombre)\n",
    "    print(\"---------\")\n",
    "\n",
    "#f __name__ == '__main__':\n",
    "info('Primera linea')\n",
    "p = Process(target=f, args=('oscar',))\n",
    "p.start()\n",
    "p.join()"
   ]
  },
  {
   "cell_type": "markdown",
   "metadata": {},
   "source": [
    "## Visibilidad variables"
   ]
  },
  {
   "cell_type": "code",
   "execution_count": 19,
   "metadata": {},
   "outputs": [
    {
     "name": "stdout",
     "output_type": "stream",
     "text": [
      "cuadrado: 0\n",
      "cuadrado: 1\n",
      "cuadrado: 4\n",
      "cuadrado: 9\n",
      "cuadrado: 16\n",
      "cuadrado: 25\n",
      "cuadrado: 36\n",
      "cuadrado: 49\n",
      "cuadrado: 64\n",
      "cuadrado: 81\n",
      "Tiempo de ejecución:  0.017346858978271484\n",
      "Resultado del proceso: []\n",
      "Finaliza ejecución\n"
     ]
    }
   ],
   "source": [
    "nums_res = []\n",
    "\n",
    "def calc_cuad(numeros):\n",
    "    global nums_res\n",
    "    for n in numeros:\n",
    "        print('cuadrado:', n * n )\n",
    "        nums_res.append(n * n)\n",
    "        \n",
    "    #print(\"Resultado del proceso:\", nums_res)    \n",
    "\n",
    "    \n",
    "nums = range(10)\n",
    "\n",
    "t = time.time()\n",
    "p1 = mp.Process(target=calc_cuad, args=(nums,))\n",
    "\n",
    "p1.start()\n",
    "p1.join()\n",
    "\n",
    "print(\"Tiempo de ejecución: \", time.time()-t)\n",
    "print(\"Resultado del proceso:\", nums_res)    \n",
    "print(\"Finaliza ejecución\")\n",
    "        "
   ]
  },
  {
   "cell_type": "markdown",
   "metadata": {},
   "source": [
    "Los procesos tienen su propio espacio de memoria. Así, las variables del pograma no se comparten entre procesos. Es necesario crear comunicación entre procesos (IPC) si se desea compartir datos entre procesos."
   ]
  },
  {
   "cell_type": "code",
   "execution_count": 11,
   "metadata": {},
   "outputs": [
    {
     "name": "stdout",
     "output_type": "stream",
     "text": [
      "cuadrado: 0\n",
      "cuadrado: 1\n",
      "cuadrado: 4\n",
      "cuadrado: 9\n",
      "cuadrado: 16\n",
      "cuadrado: 25\n",
      "cuadrado: 36\n",
      "cuadrado: 49\n",
      "cuadrado: 64\n",
      "cuadrado: 81\n",
      "Resultado del proceso: [0, 1, 4, 9, 16, 25, 36, 49, 64, 81]\n",
      "Tiempo de ejecución:  0.010054349899291992\n",
      "Finaliza ejecución\n"
     ]
    }
   ],
   "source": [
    "nums_res = []\n",
    "\n",
    "def calc_cuad(numeros):\n",
    "    global nums_res\n",
    "    for n in numeros:\n",
    "        print('cuadrado:', n * n )\n",
    "        nums_res.append(n * n)\n",
    "        \n",
    "    print(\"Resultado del proceso:\", nums_res)    \n",
    "\n",
    "nums = range(10)\n",
    "\n",
    "t = time.time()\n",
    "p1 = mp.Process(target=calc_cuad, args=(nums,))\n",
    "\n",
    "p1.start()\n",
    "p1.join()\n",
    "\n",
    "print(\"Tiempo de ejecución: \", time.time()-t)\n",
    "print(\"Finaliza ejecución\")\n",
    "        "
   ]
  },
  {
   "cell_type": "code",
   "execution_count": null,
   "metadata": {},
   "outputs": [],
   "source": []
  },
  {
   "cell_type": "code",
   "execution_count": null,
   "metadata": {},
   "outputs": [],
   "source": []
  }
 ],
 "metadata": {
  "kernelspec": {
   "display_name": "Python 3",
   "language": "python",
   "name": "python3"
  },
  "language_info": {
   "codemirror_mode": {
    "name": "ipython",
    "version": 3
   },
   "file_extension": ".py",
   "mimetype": "text/x-python",
   "name": "python",
   "nbconvert_exporter": "python",
   "pygments_lexer": "ipython3",
   "version": "3.7.1"
  }
 },
 "nbformat": 4,
 "nbformat_minor": 2
}
