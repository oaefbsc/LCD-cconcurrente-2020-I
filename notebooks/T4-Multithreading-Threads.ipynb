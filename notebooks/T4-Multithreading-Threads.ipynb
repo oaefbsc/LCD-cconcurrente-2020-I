{
 "cells": [
  {
   "cell_type": "markdown",
   "metadata": {},
   "source": [
    "# Multithreading"
   ]
  },
  {
   "cell_type": "markdown",
   "metadata": {},
   "source": [
    "Los hilos o *threads* son procesos ligeros que se ejecutan el mismo espacio de memoria. Esto complica el uso de variables dado que múltiples hilos pueden escribir en la misma localidad de memoria.\n",
    "\n",
    "No obstante, el intérprete de Python nos proporciona un mecanismo de seguridad para los hilos (_thread-safe mechanism_): GIL (Global intepreter Lock) el interprete global de bloqueo. Este mecanismo previene de conflictos entre hilos al ejecutar una sola instrucción al mismo tiempo.\n",
    "\n",
    "El intérprete de bloque global evita el paralelismo de hilos que se ejecutan en múltiples núcleos, así la implementación de hilos en python es mucho más útil en concurrencia en servidores web.  "
   ]
  },
  {
   "cell_type": "markdown",
   "metadata": {},
   "source": [
    "Múltiples hilos pueden vivir en el mismo proceso y en el mismo espacio, cada hilo hará una tarea específica con base en su propio código y su segmento de memoria (*stack*), su apuntador de instrucciones y la memoria compartida (*heap*). Si un hilo tiene "
   ]
  },
  {
   "cell_type": "markdown",
   "metadata": {},
   "source": [
    "![title](threads1.png)"
   ]
  },
  {
   "cell_type": "markdown",
   "metadata": {},
   "source": [
    "`Multithreading` es una biblioteca de python que sirve de interface de alto nivel para la creación de hilos."
   ]
  },
  {
   "cell_type": "code",
   "execution_count": 18,
   "metadata": {},
   "outputs": [
    {
     "name": "stdout",
     "output_type": "stream",
     "text": [
      "Square: 4\n",
      "Square: 9\n",
      "Square: 25\n",
      "Square: 36\n",
      "Quad: 16\n",
      "Quad: 81\n",
      "Quad: 625\n",
      "Quad: 1296\n",
      "time: 0.0003609657287597656\n"
     ]
    }
   ],
   "source": [
    "import threading\n",
    "import time\n",
    "\n",
    "def calc_square(numbers):\n",
    "    for num in numbers:\n",
    "        print('Square:' , num * num)\n",
    "    \n",
    "def calc_quad(numbers):\n",
    "    for num in numbers:\n",
    "        print('Quad:' , num * num * num * num)\n",
    "\n",
    "numbers = [2, 3, 5, 6]\n",
    "\n",
    "t = time.time()\n",
    "calc_square(numbers)\n",
    "calc_quad(numbers)\n",
    "print(\"time: \" + str(time.time()-t)) "
   ]
  },
  {
   "cell_type": "markdown",
   "metadata": {},
   "source": [
    "![title](threads_serial.png)"
   ]
  },
  {
   "cell_type": "code",
   "execution_count": null,
   "metadata": {},
   "outputs": [],
   "source": [
    "import threading\n",
    "import time\n",
    "\n",
    "def calc_square(numbers):\n",
    "    for num in numbers:\n",
    "        time.sleep(0.2)\n",
    "        print('Square:' , num * num)\n",
    "    \n",
    "def calc_quad(numbers):\n",
    "    for num in numbers:\n",
    "        time.sleep(0.2)\n",
    "        print('Quad:' , num * num * num * num)\n",
    "    \n",
    "if __name__ == \"__main__\":\n",
    "    numbers = [2, 3, 5, 6]\n",
    "    \n",
    "    t = time.time()\n",
    "    \n",
    "    thread1 = threading.Thread(target=calc_square, args=(numbers,))\n",
    "    thread2 = threading.Thread(target=calc_quad, args=(numbers,))\n",
    "    \n",
    "    # Ejecuta los dos hilos en concurrentemente \n",
    "    thread1.start()\n",
    "    thread2.start()\n",
    "    \n",
    "    # Retoma los hilos y los une de vuelta la proceso padre\n",
    "    # que es este programa\n",
    "    thread1.join()\n",
    "    thread2.join()\n",
    "    \n",
    "    print(\"time: \" + str(time.time()-t)) "
   ]
  },
  {
   "cell_type": "markdown",
   "metadata": {},
   "source": [
    "![title](threads2.png)"
   ]
  },
  {
   "cell_type": "markdown",
   "metadata": {},
   "source": [
    "## Creación de diversos hilos"
   ]
  },
  {
   "cell_type": "markdown",
   "metadata": {},
   "source": [
    "### Funciones como hilos"
   ]
  },
  {
   "cell_type": "code",
   "execution_count": 145,
   "metadata": {},
   "outputs": [
    {
     "name": "stdout",
     "output_type": "stream",
     "text": [
      "Fin del proceso inicial\n",
      "Hola soy el hilo: 0\n",
      "Hola soy el hilo: 2\n",
      "Hola soy el hilo: 1\n",
      "Hola soy el hilo: 3\n",
      "Hola soy el hilo: 4\n"
     ]
    }
   ],
   "source": [
    "import threading\n",
    "\n",
    "# crea la función que ejecutará el hilo\n",
    "def worker(number):\n",
    "    time.sleep(0.1)\n",
    "    print(\"Hola soy el hilo: \" + str(number))\n",
    "\n",
    "    \n",
    "thread_list = []\n",
    "\n",
    "# crea objetos del tipo Thread\n",
    "# llama a la función declarad en target\n",
    "for i in range(5):\n",
    "    thread = threading.Thread(target=worker, args=(i,))\n",
    "    thread.start()\n",
    "    thread_list.append(thread)\n",
    "\n",
    "print(\"Fin del proceso inicial\")"
   ]
  },
  {
   "cell_type": "code",
   "execution_count": 122,
   "metadata": {},
   "outputs": [
    {
     "name": "stdout",
     "output_type": "stream",
     "text": [
      "Soy el hilo: 0\n",
      "Soy el hilo: 2\n",
      "Soy el hilo: 1\n",
      "Soy el hilo: 4\n",
      "Soy el hilo: 3\n",
      "Fin proceso principal\n"
     ]
    }
   ],
   "source": [
    "import threading\n",
    "\n",
    "def worker(number):\n",
    "    time.sleep(0.1)\n",
    "    print(\"Soy el hilo: \" + str(number))\n",
    "    \n",
    "thread_list = []\n",
    "for i in range(5):\n",
    "    thread = threading.Thread(target=worker, args=(i,))\n",
    "    thread.start()\n",
    "    thread_list.append(thread)\n",
    "    \n",
    "# regresa cada hilo al hilo principal\n",
    "for thread in thread_list:\n",
    "    thread.join()\n",
    "    \n",
    "print(\"Fin proceso principal\")"
   ]
  },
  {
   "cell_type": "markdown",
   "metadata": {},
   "source": [
    "### Instanciando threads con clases"
   ]
  },
  {
   "cell_type": "code",
   "execution_count": 143,
   "metadata": {},
   "outputs": [
    {
     "name": "stdout",
     "output_type": "stream",
     "text": [
      "Conteo en reversa:  10\n",
      "Conteo en reversa:  20\n",
      "Conteo en reversa:  9\n",
      "Conteo en reversa:  19\n",
      "Conteo en reversa:  8\n",
      "Conteo en reversa:  18\n",
      "Conteo en reversa:  7\n",
      "Conteo en reversa:  17\n",
      "Conteo en reversa: Conteo en reversa:  16\n",
      " 6\n",
      "Conteo en reversa:  15\n",
      "Conteo en reversa:  5\n",
      "Conteo en reversa:  14\n",
      "Conteo en reversa:  4\n",
      "Conteo en reversa:  13\n",
      "Conteo en reversa:  3\n",
      "Conteo en reversa:  12\n",
      "Conteo en reversa:  2\n",
      "Conteo en reversa: Conteo en reversa:  11\n",
      " 1\n",
      "Conteo en reversa:  10\n",
      "Conteo en reversa:  9\n",
      "Conteo en reversa:  8\n",
      "Conteo en reversa:  7\n",
      "Conteo en reversa:  6\n",
      "Conteo en reversa:  5\n",
      "Conteo en reversa:  4\n",
      "Conteo en reversa:  3\n",
      "Conteo en reversa:  2\n",
      "Conteo en reversa:  1\n"
     ]
    }
   ],
   "source": [
    "import time\n",
    "import threading\n",
    "\n",
    "# el hilo es definido por una clase\n",
    "class CountdownThread(threading.Thread):\n",
    "    \n",
    "    # se hereda de Thread y se redefine run()\n",
    "    def __init__(self, count):\n",
    "        threading.Thread.__init__(self)\n",
    "        self.count = count\n",
    "        \n",
    "    def run(self):\n",
    "        while self.count > 0:\n",
    "            print(\"Conteo en reversa: \", self.count)\n",
    "            self.count -= 1\n",
    "            time.sleep(2)\n",
    "        return\n",
    "    \n",
    "t1 = CountdownThread(10)\n",
    "t1.start()\n",
    "\n",
    "t2 = CountdownThread(20)\n",
    "t2.start()\n"
   ]
  },
  {
   "cell_type": "code",
   "execution_count": 56,
   "metadata": {},
   "outputs": [
    {
     "name": "stdout",
     "output_type": "stream",
     "text": [
      "Soy el hilo: 0\n",
      "Soy el hilo: 1\n",
      "Soy el hilo: 2\n",
      "Soy el hilo: 3\n",
      "Soy el hilo: 4\n"
     ]
    }
   ],
   "source": [
    "import threading\n",
    "import time\n",
    "\n",
    "class MyThread(threading.Thread):\n",
    "    \n",
    "    def __init__(self,  number):\n",
    "        super(MyThread, self).__init__()\n",
    "        self.number = number\n",
    "    \n",
    "    def run(self):\n",
    "        time.sleep(0.1)\n",
    "        print(\"Soy el hilo: \" + str(self.number))\n",
    "    \n",
    "thread_list = []\n",
    "for i in range(5):\n",
    "    thread = MyThread(i)\n",
    "    thread_list.append(thread)\n",
    "    thread.start()\n"
   ]
  },
  {
   "cell_type": "code",
   "execution_count": 106,
   "metadata": {},
   "outputs": [
    {
     "name": "stdout",
     "output_type": "stream",
     "text": [
      "MainThread\n",
      "Thread-2\n",
      "Thread-3\n",
      "IPythonHistorySavingThread\n",
      "Thread-1\n",
      "0 : True\n",
      "1 : False\n",
      "2 : False\n",
      "3 : False\n",
      "4 : False\n"
     ]
    }
   ],
   "source": [
    "import threading\n",
    "import time\n",
    "\n",
    "class MyThread(threading.Thread):\n",
    "    def __init__(self,  number):\n",
    "        super(MyThread, self).__init__()\n",
    "        self.number = number\n",
    "    def run(self):\n",
    "        time.sleep(0.1)\n",
    "        #print(\"Soy el hilo: \" + str(self.number))\n",
    "    \n",
    "thread_list = []\n",
    "for i in range(5):\n",
    "    thread = MyThread(i)\n",
    "    thread_list.append(thread)\n",
    "    thread.start()\n",
    "\n",
    "# ejecuta para los hilos activos\n",
    "# usa una excepción para asignar un valor\n",
    "# al hilo principal\n",
    "for thread in threading.enumerate():\n",
    "    try:\n",
    "        print(thread.number, \":\", thread.is_alive())\n",
    "        time.sleep(0.1)\n",
    "    except:\n",
    "        print(thread.getName())"
   ]
  },
  {
   "cell_type": "markdown",
   "metadata": {},
   "source": [
    "### Creando un ejecutor de hilos (thread pool executor)"
   ]
  },
  {
   "cell_type": "code",
   "execution_count": 133,
   "metadata": {},
   "outputs": [
    {
     "name": "stdout",
     "output_type": "stream",
     "text": [
      "Soy el hilo: 1\n",
      "Done...\n",
      "Soy el hilo: 2\n",
      "Done...\n"
     ]
    }
   ],
   "source": [
    "import concurrent.futures\n",
    "\n",
    "def worker(number):\n",
    "    time.sleep(0.1)\n",
    "    print(\"Soy el hilo: \" + str(number))\n",
    "    return (\"Done...\")\n",
    "\n",
    "with concurrent.futures.ThreadPoolExecutor() as executor:\n",
    "    t1 = executor.submit(worker, 1)\n",
    "    print(t1.result())\n",
    "    t2 = executor.submit(worker, 2)\n",
    "    print(t2.result())\n",
    "    \n",
    "    \n",
    "#thread_list = []\n",
    "#for i in range(5):\n",
    "#    thread = threading.Thread(target=worker, args=(i,))\n",
    "#    thread.start()\n",
    "#    thread_list.append(thread)"
   ]
  },
  {
   "cell_type": "code",
   "execution_count": 137,
   "metadata": {},
   "outputs": [
    {
     "name": "stdout",
     "output_type": "stream",
     "text": [
      "Soy el hilo: 0Soy el hilo: 1\n",
      "\n",
      "Soy el hilo: 2\n",
      "Soy el hilo: 4\n",
      "Soy el hilo: 3\n",
      "Done...\n",
      "Done...\n",
      "Done...\n",
      "Done...\n",
      "Done...\n"
     ]
    }
   ],
   "source": [
    "import concurrent.futures\n",
    "\n",
    "def worker(number):\n",
    "    time.sleep(0.1)\n",
    "    print(\"Soy el hilo: \" + str(number))\n",
    "    return (\"Done...\")\n",
    "\n",
    "with concurrent.futures.ThreadPoolExecutor() as executor:\n",
    "    \n",
    "    results = [executor.submit(worker, i) for i in range(5)]\n",
    "    \n",
    "    for t in concurrent.futures.as_completed(results):\n",
    "        print(t.result())\n",
    "\n",
    "    \n",
    "    \n",
    "#thread_list = []\n",
    "#for i in range(5):\n",
    "#    thread = threading.Thread(target=worker, args=(i,))\n",
    "#    thread.start()\n",
    "#    thread_list.append(thread)"
   ]
  },
  {
   "cell_type": "markdown",
   "metadata": {},
   "source": [
    "## Dificultades con los hilos"
   ]
  },
  {
   "cell_type": "markdown",
   "metadata": {},
   "source": [
    "+ Los hilos no tienen un comportamiento determinista\n",
    "+ La planificación la realiza el sistema operativo, no el intérprete de Python\n",
    "+ Es impredecible la ejecución de un hilo, por lo tanto, el código debe ser seguro para cada hilo (*thread safe*)\n",
    "+ Los hilos usan bloqueo de recursos de E/S (ejemplo, sistema de archivos) para tenerlos disponibles\n",
    "+ Se requieren bloqueos (*locks*) para sincronizar el acceso a variables compartidas de lo multihilos.\n",
    "+ La sincronización usando bloqueos es difícil y propenso a errores"
   ]
  },
  {
   "cell_type": "markdown",
   "metadata": {},
   "source": [
    "## Acceso a datos compartidos"
   ]
  },
  {
   "cell_type": "code",
   "execution_count": 168,
   "metadata": {},
   "outputs": [
    {
     "name": "stdout",
     "output_type": "stream",
     "text": [
      "-6824083\n"
     ]
    }
   ],
   "source": [
    "x = 0\n",
    "\n",
    "def mysum():\n",
    "    global x\n",
    "    for i in range(100000000):\n",
    "        x += 1\n",
    "        \n",
    "def myres():\n",
    "    global x\n",
    "    for i in range(100000000):\n",
    "        x -= 1\n",
    "        \n",
    "t1 = threading.Thread(target=mysum)\n",
    "t2 = threading.Thread(target=myres)\n",
    "t1.start(); t2.start()\n",
    "\n",
    "t1.join(); t2.join()\n",
    "\n",
    "print(x)\n",
    "    \n",
    "    "
   ]
  },
  {
   "cell_type": "code",
   "execution_count": 151,
   "metadata": {},
   "outputs": [
    {
     "name": "stdout",
     "output_type": "stream",
     "text": [
      "1\n",
      "2\n",
      "3\n",
      "4\n",
      "5\n",
      "6\n",
      "7\n",
      "8\n",
      "9\n",
      "10\n"
     ]
    }
   ],
   "source": [
    "x = 0\n",
    "for i in range(10):\n",
    "    x += 1\n",
    "    print(x)"
   ]
  },
  {
   "cell_type": "markdown",
   "metadata": {},
   "source": [
    "## Bloqueos y sincronización"
   ]
  },
  {
   "cell_type": "markdown",
   "metadata": {},
   "source": [
    "`threading.Lock`: Bloqueo predeterminado\n",
    "\n",
    "`threading.Rlock`: Bloqueo renterante con contador de propietario\n",
    "\n",
    "`threading.Event`: Bandera simple\n",
    "\n",
    "`threading.Condition`: Bloqueo condicional con notificación\n",
    "\n",
    "`threading.Semaphore`: Bloqueo con un contador\n"
   ]
  },
  {
   "cell_type": "code",
   "execution_count": null,
   "metadata": {},
   "outputs": [],
   "source": []
  }
 ],
 "metadata": {
  "kernelspec": {
   "display_name": "Python 3",
   "language": "python",
   "name": "python3"
  },
  "language_info": {
   "codemirror_mode": {
    "name": "ipython",
    "version": 3
   },
   "file_extension": ".py",
   "mimetype": "text/x-python",
   "name": "python",
   "nbconvert_exporter": "python",
   "pygments_lexer": "ipython3",
   "version": "3.7.3"
  }
 },
 "nbformat": 4,
 "nbformat_minor": 2
}
